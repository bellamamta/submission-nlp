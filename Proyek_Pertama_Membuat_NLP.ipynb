{
  "nbformat": 4,
  "nbformat_minor": 0,
  "metadata": {
    "colab": {
      "name": "Proyek Pertama : Membuat NLP.ipynb",
      "provenance": []
    },
    "kernelspec": {
      "name": "python3",
      "display_name": "Python 3"
    },
    "language_info": {
      "name": "python"
    }
  },
  "cells": [
    {
      "cell_type": "code",
      "metadata": {
        "colab": {
          "base_uri": "https://localhost:8080/",
          "height": 202
        },
        "id": "UwIGHInZiztN",
        "outputId": "a722f105-635a-4d17-eba1-bd31d3964198"
      },
      "source": [
        "#membaca dataset\n",
        "import pandas as pd\n",
        "df = pd.read_csv('/content/drive/MyDrive/emotion-labels-test.csv')\n",
        "df.head()"
      ],
      "execution_count": 1,
      "outputs": [
        {
          "output_type": "execute_result",
          "data": {
            "text/html": [
              "<div>\n",
              "<style scoped>\n",
              "    .dataframe tbody tr th:only-of-type {\n",
              "        vertical-align: middle;\n",
              "    }\n",
              "\n",
              "    .dataframe tbody tr th {\n",
              "        vertical-align: top;\n",
              "    }\n",
              "\n",
              "    .dataframe thead th {\n",
              "        text-align: right;\n",
              "    }\n",
              "</style>\n",
              "<table border=\"1\" class=\"dataframe\">\n",
              "  <thead>\n",
              "    <tr style=\"text-align: right;\">\n",
              "      <th></th>\n",
              "      <th>text</th>\n",
              "      <th>label</th>\n",
              "    </tr>\n",
              "  </thead>\n",
              "  <tbody>\n",
              "    <tr>\n",
              "      <th>0</th>\n",
              "      <td>You must be knowing #blithe means (adj.)  Happ...</td>\n",
              "      <td>joy</td>\n",
              "    </tr>\n",
              "    <tr>\n",
              "      <th>1</th>\n",
              "      <td>Old saying 'A #smile shared is one gained for ...</td>\n",
              "      <td>joy</td>\n",
              "    </tr>\n",
              "    <tr>\n",
              "      <th>2</th>\n",
              "      <td>Bridget Jones' Baby was bloody hilarious 😅 #Br...</td>\n",
              "      <td>joy</td>\n",
              "    </tr>\n",
              "    <tr>\n",
              "      <th>3</th>\n",
              "      <td>@Elaminova sparkling water makes your life spa...</td>\n",
              "      <td>joy</td>\n",
              "    </tr>\n",
              "    <tr>\n",
              "      <th>4</th>\n",
              "      <td>I'm tired of everybody telling me to chill out...</td>\n",
              "      <td>joy</td>\n",
              "    </tr>\n",
              "  </tbody>\n",
              "</table>\n",
              "</div>"
            ],
            "text/plain": [
              "                                                text label\n",
              "0  You must be knowing #blithe means (adj.)  Happ...   joy\n",
              "1  Old saying 'A #smile shared is one gained for ...   joy\n",
              "2  Bridget Jones' Baby was bloody hilarious 😅 #Br...   joy\n",
              "3  @Elaminova sparkling water makes your life spa...   joy\n",
              "4  I'm tired of everybody telling me to chill out...   joy"
            ]
          },
          "metadata": {
            "tags": []
          },
          "execution_count": 1
        }
      ]
    },
    {
      "cell_type": "code",
      "metadata": {
        "colab": {
          "base_uri": "https://localhost:8080/"
        },
        "id": "SzWadS27i_cj",
        "outputId": "b5510d87-dfaa-4d10-da9e-8f8e927e97b0"
      },
      "source": [
        "#menghitung jumlah klasifikasi label\n",
        "df['label'].value_counts()"
      ],
      "execution_count": 2,
      "outputs": [
        {
          "output_type": "execute_result",
          "data": {
            "text/plain": [
              "fear       995\n",
              "anger      760\n",
              "joy        714\n",
              "sadness    673\n",
              "Name: label, dtype: int64"
            ]
          },
          "metadata": {
            "tags": []
          },
          "execution_count": 2
        }
      ]
    },
    {
      "cell_type": "code",
      "metadata": {
        "colab": {
          "base_uri": "https://localhost:8080/",
          "height": 414
        },
        "id": "6g3Hf2RijeFY",
        "outputId": "d2102abe-eb7f-44fe-d938-b274a5060f25"
      },
      "source": [
        "#melakukan one hot encoding\n",
        "category = pd.get_dummies(df.label)\n",
        "df_baru = pd.concat([df, category], axis=1)\n",
        "df_baru = df_baru.drop(columns='label')\n",
        "df_baru"
      ],
      "execution_count": 3,
      "outputs": [
        {
          "output_type": "execute_result",
          "data": {
            "text/html": [
              "<div>\n",
              "<style scoped>\n",
              "    .dataframe tbody tr th:only-of-type {\n",
              "        vertical-align: middle;\n",
              "    }\n",
              "\n",
              "    .dataframe tbody tr th {\n",
              "        vertical-align: top;\n",
              "    }\n",
              "\n",
              "    .dataframe thead th {\n",
              "        text-align: right;\n",
              "    }\n",
              "</style>\n",
              "<table border=\"1\" class=\"dataframe\">\n",
              "  <thead>\n",
              "    <tr style=\"text-align: right;\">\n",
              "      <th></th>\n",
              "      <th>text</th>\n",
              "      <th>anger</th>\n",
              "      <th>fear</th>\n",
              "      <th>joy</th>\n",
              "      <th>sadness</th>\n",
              "    </tr>\n",
              "  </thead>\n",
              "  <tbody>\n",
              "    <tr>\n",
              "      <th>0</th>\n",
              "      <td>You must be knowing #blithe means (adj.)  Happ...</td>\n",
              "      <td>0</td>\n",
              "      <td>0</td>\n",
              "      <td>1</td>\n",
              "      <td>0</td>\n",
              "    </tr>\n",
              "    <tr>\n",
              "      <th>1</th>\n",
              "      <td>Old saying 'A #smile shared is one gained for ...</td>\n",
              "      <td>0</td>\n",
              "      <td>0</td>\n",
              "      <td>1</td>\n",
              "      <td>0</td>\n",
              "    </tr>\n",
              "    <tr>\n",
              "      <th>2</th>\n",
              "      <td>Bridget Jones' Baby was bloody hilarious 😅 #Br...</td>\n",
              "      <td>0</td>\n",
              "      <td>0</td>\n",
              "      <td>1</td>\n",
              "      <td>0</td>\n",
              "    </tr>\n",
              "    <tr>\n",
              "      <th>3</th>\n",
              "      <td>@Elaminova sparkling water makes your life spa...</td>\n",
              "      <td>0</td>\n",
              "      <td>0</td>\n",
              "      <td>1</td>\n",
              "      <td>0</td>\n",
              "    </tr>\n",
              "    <tr>\n",
              "      <th>4</th>\n",
              "      <td>I'm tired of everybody telling me to chill out...</td>\n",
              "      <td>0</td>\n",
              "      <td>0</td>\n",
              "      <td>1</td>\n",
              "      <td>0</td>\n",
              "    </tr>\n",
              "    <tr>\n",
              "      <th>...</th>\n",
              "      <td>...</td>\n",
              "      <td>...</td>\n",
              "      <td>...</td>\n",
              "      <td>...</td>\n",
              "      <td>...</td>\n",
              "    </tr>\n",
              "    <tr>\n",
              "      <th>3137</th>\n",
              "      <td>Why does Candice constantly pout #GBBO 💄😒</td>\n",
              "      <td>0</td>\n",
              "      <td>0</td>\n",
              "      <td>0</td>\n",
              "      <td>1</td>\n",
              "    </tr>\n",
              "    <tr>\n",
              "      <th>3138</th>\n",
              "      <td>@redBus_in #unhappy with #redbus CC, when I ta...</td>\n",
              "      <td>0</td>\n",
              "      <td>0</td>\n",
              "      <td>0</td>\n",
              "      <td>1</td>\n",
              "    </tr>\n",
              "    <tr>\n",
              "      <th>3139</th>\n",
              "      <td>@AceOperative789 no pull him afew weeks ago, s...</td>\n",
              "      <td>0</td>\n",
              "      <td>0</td>\n",
              "      <td>0</td>\n",
              "      <td>1</td>\n",
              "    </tr>\n",
              "    <tr>\n",
              "      <th>3140</th>\n",
              "      <td>I'm buying art supplies and I'm debating how s...</td>\n",
              "      <td>0</td>\n",
              "      <td>0</td>\n",
              "      <td>0</td>\n",
              "      <td>1</td>\n",
              "    </tr>\n",
              "    <tr>\n",
              "      <th>3141</th>\n",
              "      <td>@sainsburys Could you ask your Chafford Hundre...</td>\n",
              "      <td>0</td>\n",
              "      <td>0</td>\n",
              "      <td>0</td>\n",
              "      <td>1</td>\n",
              "    </tr>\n",
              "  </tbody>\n",
              "</table>\n",
              "<p>3142 rows × 5 columns</p>\n",
              "</div>"
            ],
            "text/plain": [
              "                                                   text  anger  ...  joy  sadness\n",
              "0     You must be knowing #blithe means (adj.)  Happ...      0  ...    1        0\n",
              "1     Old saying 'A #smile shared is one gained for ...      0  ...    1        0\n",
              "2     Bridget Jones' Baby was bloody hilarious 😅 #Br...      0  ...    1        0\n",
              "3     @Elaminova sparkling water makes your life spa...      0  ...    1        0\n",
              "4     I'm tired of everybody telling me to chill out...      0  ...    1        0\n",
              "...                                                 ...    ...  ...  ...      ...\n",
              "3137          Why does Candice constantly pout #GBBO 💄😒      0  ...    0        1\n",
              "3138  @redBus_in #unhappy with #redbus CC, when I ta...      0  ...    0        1\n",
              "3139  @AceOperative789 no pull him afew weeks ago, s...      0  ...    0        1\n",
              "3140  I'm buying art supplies and I'm debating how s...      0  ...    0        1\n",
              "3141  @sainsburys Could you ask your Chafford Hundre...      0  ...    0        1\n",
              "\n",
              "[3142 rows x 5 columns]"
            ]
          },
          "metadata": {
            "tags": []
          },
          "execution_count": 3
        }
      ]
    },
    {
      "cell_type": "code",
      "metadata": {
        "id": "KI5PtLFSjzlm"
      },
      "source": [
        "#mengubah nilai-nilai dari df ke dalam tipe data numpy array menggunakan atribut values\n",
        "text = df_baru['text'].values\n",
        "label = df_baru[['anger', 'fear', 'joy', 'sadness']].values"
      ],
      "execution_count": 4,
      "outputs": []
    },
    {
      "cell_type": "code",
      "metadata": {
        "id": "RTA4Pf9YkN9P"
      },
      "source": [
        "#membagi data training dan testing\n",
        "from sklearn.model_selection import train_test_split\n",
        "text_train, text_test, label_train, label_test = train_test_split(text, label, test_size=0.2)"
      ],
      "execution_count": 5,
      "outputs": []
    },
    {
      "cell_type": "code",
      "metadata": {
        "id": "L0FZRvWJnHX7"
      },
      "source": [
        "#melakukan tokenisasi\n",
        "from tensorflow.keras.preprocessing.text import Tokenizer\n",
        "from tensorflow.keras.preprocessing.sequence import pad_sequences\n",
        " \n",
        "tokenizer = Tokenizer(num_words=5000, oov_token='x')\n",
        "tokenizer.fit_on_texts(text_train) \n",
        "tokenizer.fit_on_texts(text_test)\n",
        " \n",
        "sekuens_train = tokenizer.texts_to_sequences(text_train)\n",
        "sekuens_test = tokenizer.texts_to_sequences(text_test)\n",
        " \n",
        "padded_train = pad_sequences(sekuens_train) \n",
        "padded_test = pad_sequences(sekuens_test)"
      ],
      "execution_count": 6,
      "outputs": []
    },
    {
      "cell_type": "code",
      "metadata": {
        "id": "eqgdNoRGneNi"
      },
      "source": [
        "#membuat model\n",
        "import tensorflow as tf\n",
        "model = tf.keras.Sequential([\n",
        "    tf.keras.layers.Embedding(input_dim=5000, output_dim=16),\n",
        "    tf.keras.layers.LSTM(64),\n",
        "    tf.keras.layers.Dense(128, activation='relu'),\n",
        "    tf.keras.layers.Dense(64, activation='relu'),\n",
        "    tf.keras.layers.Dense(4, activation='softmax')\n",
        "])\n",
        "model.compile(loss='categorical_crossentropy',optimizer='adam',metrics=['accuracy'])"
      ],
      "execution_count": 7,
      "outputs": []
    },
    {
      "cell_type": "code",
      "metadata": {
        "colab": {
          "base_uri": "https://localhost:8080/"
        },
        "id": "-O2rrrkCnkGt",
        "outputId": "ddfad2b1-03b0-471b-93e3-03d9078f3c9b"
      },
      "source": [
        "#melatih model\n",
        "num_epochs = 30\n",
        "history = model.fit(padded_train, label_train, epochs=num_epochs, \n",
        "                    validation_data=(padded_test, label_test), verbose=2)"
      ],
      "execution_count": 8,
      "outputs": [
        {
          "output_type": "stream",
          "text": [
            "Epoch 1/30\n",
            "79/79 - 5s - loss: 1.3741 - accuracy: 0.3191 - val_loss: 1.3660 - val_accuracy: 0.2941\n",
            "Epoch 2/30\n",
            "79/79 - 2s - loss: 1.0119 - accuracy: 0.5690 - val_loss: 0.8657 - val_accuracy: 0.6598\n",
            "Epoch 3/30\n",
            "79/79 - 2s - loss: 0.3535 - accuracy: 0.8858 - val_loss: 0.6484 - val_accuracy: 0.7615\n",
            "Epoch 4/30\n",
            "79/79 - 2s - loss: 0.1648 - accuracy: 0.9530 - val_loss: 0.6167 - val_accuracy: 0.7997\n",
            "Epoch 5/30\n",
            "79/79 - 2s - loss: 0.1024 - accuracy: 0.9737 - val_loss: 0.6870 - val_accuracy: 0.7854\n",
            "Epoch 6/30\n",
            "79/79 - 2s - loss: 0.0754 - accuracy: 0.9773 - val_loss: 0.6924 - val_accuracy: 0.7774\n",
            "Epoch 7/30\n",
            "79/79 - 2s - loss: 0.0690 - accuracy: 0.9809 - val_loss: 0.7381 - val_accuracy: 0.7774\n",
            "Epoch 8/30\n",
            "79/79 - 2s - loss: 0.0625 - accuracy: 0.9825 - val_loss: 0.7207 - val_accuracy: 0.7838\n",
            "Epoch 9/30\n",
            "79/79 - 2s - loss: 0.0556 - accuracy: 0.9825 - val_loss: 0.8539 - val_accuracy: 0.7901\n",
            "Epoch 10/30\n",
            "79/79 - 2s - loss: 0.0484 - accuracy: 0.9845 - val_loss: 0.8710 - val_accuracy: 0.7631\n",
            "Epoch 11/30\n",
            "79/79 - 2s - loss: 0.0519 - accuracy: 0.9829 - val_loss: 0.9060 - val_accuracy: 0.7727\n",
            "Epoch 12/30\n",
            "79/79 - 2s - loss: 0.0602 - accuracy: 0.9789 - val_loss: 0.8509 - val_accuracy: 0.7806\n",
            "Epoch 13/30\n",
            "79/79 - 2s - loss: 0.0469 - accuracy: 0.9837 - val_loss: 0.9114 - val_accuracy: 0.7790\n",
            "Epoch 14/30\n",
            "79/79 - 2s - loss: 0.0421 - accuracy: 0.9849 - val_loss: 0.9083 - val_accuracy: 0.7870\n",
            "Epoch 15/30\n",
            "79/79 - 2s - loss: 0.0379 - accuracy: 0.9829 - val_loss: 1.4124 - val_accuracy: 0.7297\n",
            "Epoch 16/30\n",
            "79/79 - 2s - loss: 0.0562 - accuracy: 0.9789 - val_loss: 0.9051 - val_accuracy: 0.7695\n",
            "Epoch 17/30\n",
            "79/79 - 2s - loss: 0.0424 - accuracy: 0.9853 - val_loss: 0.9453 - val_accuracy: 0.7599\n",
            "Epoch 18/30\n",
            "79/79 - 2s - loss: 0.0361 - accuracy: 0.9825 - val_loss: 1.0312 - val_accuracy: 0.7695\n",
            "Epoch 19/30\n",
            "79/79 - 2s - loss: 0.0336 - accuracy: 0.9833 - val_loss: 0.9934 - val_accuracy: 0.7822\n",
            "Epoch 20/30\n",
            "79/79 - 2s - loss: 0.0299 - accuracy: 0.9845 - val_loss: 1.2214 - val_accuracy: 0.7695\n",
            "Epoch 21/30\n",
            "79/79 - 2s - loss: 0.0297 - accuracy: 0.9841 - val_loss: 1.1696 - val_accuracy: 0.7742\n",
            "Epoch 22/30\n",
            "79/79 - 2s - loss: 0.0280 - accuracy: 0.9853 - val_loss: 0.9573 - val_accuracy: 0.7917\n",
            "Epoch 23/30\n",
            "79/79 - 2s - loss: 0.0278 - accuracy: 0.9837 - val_loss: 1.0790 - val_accuracy: 0.7679\n",
            "Epoch 24/30\n",
            "79/79 - 2s - loss: 0.0291 - accuracy: 0.9853 - val_loss: 1.0504 - val_accuracy: 0.7552\n",
            "Epoch 25/30\n",
            "79/79 - 2s - loss: 0.0288 - accuracy: 0.9837 - val_loss: 1.1001 - val_accuracy: 0.7774\n",
            "Epoch 26/30\n",
            "79/79 - 2s - loss: 0.0242 - accuracy: 0.9849 - val_loss: 1.2036 - val_accuracy: 0.7758\n",
            "Epoch 27/30\n",
            "79/79 - 2s - loss: 0.0233 - accuracy: 0.9865 - val_loss: 1.3471 - val_accuracy: 0.7552\n",
            "Epoch 28/30\n",
            "79/79 - 2s - loss: 0.0232 - accuracy: 0.9833 - val_loss: 1.3695 - val_accuracy: 0.7599\n",
            "Epoch 29/30\n",
            "79/79 - 2s - loss: 0.0686 - accuracy: 0.9789 - val_loss: 1.1043 - val_accuracy: 0.7615\n",
            "Epoch 30/30\n",
            "79/79 - 2s - loss: 0.0524 - accuracy: 0.9841 - val_loss: 0.9459 - val_accuracy: 0.7774\n"
          ],
          "name": "stdout"
        }
      ]
    },
    {
      "cell_type": "code",
      "metadata": {
        "colab": {
          "base_uri": "https://localhost:8080/",
          "height": 573
        },
        "id": "AM2pBttXos4D",
        "outputId": "39e7f106-2fc8-42ef-9bdf-6aa8b6a88540"
      },
      "source": [
        "#membuat plot akurasi dan plot loss\n",
        "\n",
        "# Plot Akurasi\n",
        "import matplotlib.pyplot as plt\n",
        "plt.plot(history.history['accuracy'])\n",
        "plt.plot(history.history['val_accuracy'])\n",
        "plt.title('Plot Accuracy Model')\n",
        "plt.ylabel('accuracy')\n",
        "plt.xlabel('epoch')\n",
        "plt.legend(['train', 'test'], loc='upper left')\n",
        "plt.show()\n",
        "\n",
        "# Plot Loss\n",
        "plt.plot(history.history['loss'])\n",
        "plt.plot(history.history['val_loss'])\n",
        "plt.title('Plot Loss Model')\n",
        "plt.ylabel('loss')\n",
        "plt.xlabel('epoch')\n",
        "plt.legend(['train', 'test'], loc='upper left')\n",
        "plt.show()"
      ],
      "execution_count": 9,
      "outputs": [
        {
          "output_type": "display_data",
          "data": {
            "image/png": "[encoded data removed]",
            "text/plain": [
              "<Figure size 432x288 with 1 Axes>"
            ]
          },
          "metadata": {
            "tags": [],
            "needs_background": "light"
          }
        },
        {
          "output_type": "display_data",
          "data": {
            "image/png": "[encoded data removed]",
            "text/plain": [
              "<Figure size 432x288 with 1 Axes>"
            ]
          },
          "metadata": {
            "tags": [],
            "needs_background": "light"
          }
        }
      ]
    }
  ]
}